{
 "cells": [
  {
   "cell_type": "code",
   "execution_count": 2,
   "id": "657f935a-5732-4506-b2e4-3723780f21e7",
   "metadata": {
    "slideshow": {
     "slide_type": "notes"
    }
   },
   "outputs": [
    {
     "ename": "SyntaxError",
     "evalue": "invalid syntax (3507465797.py, line 4)",
     "output_type": "error",
     "traceback": [
      "\u001b[1;36m  File \u001b[1;32m\"C:\\Users\\hesto\\AppData\\Local\\Temp\\ipykernel_35080\\3507465797.py\"\u001b[1;36m, line \u001b[1;32m4\u001b[0m\n\u001b[1;33m    [![N|Solid](https://cldup.com/dTxpPi9lDf.thumb.png)](https://nodesource.com/products/nsolid)\u001b[0m\n\u001b[1;37m     ^\u001b[0m\n\u001b[1;31mSyntaxError\u001b[0m\u001b[1;31m:\u001b[0m invalid syntax\n"
     ]
    }
   ],
   "source": [
    "# Dillinger\n",
    "## _The Last Markdown Editor, Ever_\n",
    "\n",
    "[![N|Solid](https://cldup.com/dTxpPi9lDf.thumb.png)](https://nodesource.com/products/nsolid)\n",
    "\n",
    "[![Build Status](https://travis-ci.org/joemccann/dillinger.svg?branch=master)](https://travis-ci.org/joemccann/dillinger)\n",
    "\n",
    "Dillinger is a cloud-enabled, mobile-ready, offline-storage compatible,\n",
    "AngularJS-powered HTML5 Markdown editor.\n",
    "\n",
    "- Type some Markdown on the left\n",
    "- See HTML in the right\n",
    "- ✨Magic ✨\n",
    "\n",
    "## Features\n",
    "\n",
    "- Import a HTML file and watch it magically convert to Markdown\n",
    "- Drag and drop images (requires your Dropbox account be linked)\n",
    "- Import and save files from GitHub, Dropbox, Google Drive and One Drive\n",
    "- Drag and drop markdown and HTML files into Dillinger\n",
    "- Export documents as Markdown, HTML and PDF\n"
   ]
  },
  {
   "cell_type": "markdown",
   "id": "0f57a442-0d56-4919-bf0c-d71509530781",
   "metadata": {
    "slideshow": {
     "slide_type": "slide"
    }
   },
   "source": []
  },
  {
   "cell_type": "markdown",
   "id": "c25f4f17-552f-4afc-8457-2a5bd46ca173",
   "metadata": {
    "slideshow": {
     "slide_type": "slide"
    },
    "user_expressions": []
   },
   "source": [
    "# Dillinger\n",
    "## _The Last Markdown Editor, Ever_"
   ]
  },
  {
   "cell_type": "markdown",
   "id": "593d3402-9029-49e0-a714-14777c4e946d",
   "metadata": {
    "slideshow": {
     "slide_type": "fragment"
    },
    "user_expressions": []
   },
   "source": [
    "[![N|Solid](https://cldup.com/dTxpPi9lDf.thumb.png)](https://nodesource.com/products/nsolid)"
   ]
  },
  {
   "cell_type": "markdown",
   "id": "225ffd0d-ebc3-4d3b-8166-93da628e2779",
   "metadata": {
    "slideshow": {
     "slide_type": "fragment"
    },
    "user_expressions": []
   },
   "source": [
    "[![Build Status](https://travis-ci.org/joemccann/dillinger.svg?branch=master)](https://travis-ci.org/joemccann/dillinger)"
   ]
  },
  {
   "cell_type": "markdown",
   "id": "b7a1e2dc-c9f3-40ec-987e-7439eb23fc9d",
   "metadata": {
    "user_expressions": []
   },
   "source": [
    "Dillinger is a cloud-enabled, mobile-ready, offline-storage compatible,\n",
    "AngularJS-powered HTML5 Markdown editor."
   ]
  },
  {
   "cell_type": "markdown",
   "id": "8175ef2b-f13d-4252-89ce-03a37623a7de",
   "metadata": {
    "slideshow": {
     "slide_type": "fragment"
    },
    "user_expressions": []
   },
   "source": [
    "- Type some Markdown on the left"
   ]
  },
  {
   "cell_type": "markdown",
   "id": "07b6fc46-61c2-4eb6-a56e-d793a593935e",
   "metadata": {
    "slideshow": {
     "slide_type": "fragment"
    },
    "user_expressions": []
   },
   "source": [
    "- See HTML in the right"
   ]
  },
  {
   "cell_type": "markdown",
   "id": "588dd39e-46de-49ad-bdb6-10e64e2715a9",
   "metadata": {
    "slideshow": {
     "slide_type": "fragment"
    },
    "user_expressions": []
   },
   "source": [
    "- ✨Magic ✨"
   ]
  },
  {
   "cell_type": "markdown",
   "id": "b7d3c05f-8ac7-42dc-99d7-76a6af3270d6",
   "metadata": {
    "slideshow": {
     "slide_type": "slide"
    },
    "user_expressions": []
   },
   "source": [
    "## Features"
   ]
  },
  {
   "cell_type": "markdown",
   "id": "8a69d275-414e-4c29-a00f-55885c449d05",
   "metadata": {
    "slideshow": {
     "slide_type": "slide"
    },
    "user_expressions": []
   },
   "source": [
    "- Import a HTML file and watch it magically convert to Markdown\n",
    "- Drag and drop images (requires your Dropbox account be linked)"
   ]
  },
  {
   "cell_type": "markdown",
   "id": "3932cf65-8863-4ade-afd2-b19b35347917",
   "metadata": {
    "slideshow": {
     "slide_type": "subslide"
    },
    "user_expressions": []
   },
   "source": [
    "You can also:"
   ]
  },
  {
   "cell_type": "markdown",
   "id": "14e7f230-c1e9-4055-a4ab-dae6a6109358",
   "metadata": {
    "slideshow": {
     "slide_type": "fragment"
    },
    "user_expressions": []
   },
   "source": [
    "- Import and save files from GitHub, Dropbox, Google Drive and One Drive\n",
    "- Drag and drop markdown and HTML files into Dillinger\n",
    "- Export documents as Markdown, HTML and PDF"
   ]
  },
  {
   "cell_type": "code",
   "execution_count": null,
   "id": "03956b91-4e34-4bf6-b2aa-35624ac8d6d0",
   "metadata": {},
   "outputs": [],
   "source": []
  },
  {
   "cell_type": "code",
   "execution_count": null,
   "id": "a0d19f17-4bc6-4097-b2cd-e8faa30e08d8",
   "metadata": {},
   "outputs": [],
   "source": []
  }
 ],
 "metadata": {
  "celltoolbar": "Slideshow",
  "kernelspec": {
   "display_name": "Python 3 (ipykernel)",
   "language": "python",
   "name": "python3"
  },
  "language_info": {
   "codemirror_mode": {
    "name": "ipython",
    "version": 3
   },
   "file_extension": ".py",
   "mimetype": "text/x-python",
   "name": "python",
   "nbconvert_exporter": "python",
   "pygments_lexer": "ipython3",
   "version": "3.9.13"
  }
 },
 "nbformat": 4,
 "nbformat_minor": 5
}
